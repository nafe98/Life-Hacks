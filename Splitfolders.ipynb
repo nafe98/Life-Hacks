{
 "cells": [
  {
   "cell_type": "markdown",
   "id": "2258be39",
   "metadata": {},
   "source": [
    "Ref : https://morioh.com/p/ecb945d21a4d"
   ]
  },
  {
   "cell_type": "code",
   "execution_count": null,
   "id": "6dd1e76e",
   "metadata": {},
   "outputs": [],
   "source": [
    "import splitfolders"
   ]
  },
  {
   "cell_type": "code",
   "execution_count": null,
   "id": "41ac7951",
   "metadata": {},
   "outputs": [],
   "source": [
    "input_folder = 'Folder Name/'"
   ]
  },
  {
   "cell_type": "code",
   "execution_count": null,
   "id": "0a5e6039",
   "metadata": {},
   "outputs": [],
   "source": [
    "splitfolders.ratio(input_folder, output=\"Folder Name\", \n",
    "                   seed=42, ratio=(.85, .1, .05), \n",
    "                   group_prefix=None) # Train Test validation values"
   ]
  },
  {
   "cell_type": "code",
   "execution_count": null,
   "id": "d000f357",
   "metadata": {},
   "outputs": [],
   "source": [
    "# Split val/test with a fixed number of items e.g. 100 for each set.\n",
    "# To only split into training and validation set, use a single number to `fixed`, i.e., `10`.\n",
    "# enable oversampling of imbalanced datasets, works only with fixed\n",
    "splitfolders.fixed(input_folder, output=\"cell_images2\", \n",
    "                   seed=42, fixed=(35, 20), \n",
    "                   oversample=False, group_prefix=None)"
   ]
  },
  {
   "cell_type": "code",
   "execution_count": null,
   "id": "16155c87",
   "metadata": {},
   "outputs": [],
   "source": []
  },
  {
   "cell_type": "code",
   "execution_count": null,
   "id": "3c8a9319",
   "metadata": {},
   "outputs": [],
   "source": []
  },
  {
   "cell_type": "code",
   "execution_count": null,
   "id": "90240429",
   "metadata": {},
   "outputs": [],
   "source": []
  },
  {
   "cell_type": "code",
   "execution_count": null,
   "id": "83f48a4e",
   "metadata": {},
   "outputs": [],
   "source": []
  },
  {
   "cell_type": "code",
   "execution_count": null,
   "id": "b15b1521",
   "metadata": {},
   "outputs": [],
   "source": []
  }
 ],
 "metadata": {
  "kernelspec": {
   "display_name": "Python 3 (ipykernel)",
   "language": "python",
   "name": "python3"
  },
  "language_info": {
   "codemirror_mode": {
    "name": "ipython",
    "version": 3
   },
   "file_extension": ".py",
   "mimetype": "text/x-python",
   "name": "python",
   "nbconvert_exporter": "python",
   "pygments_lexer": "ipython3",
   "version": "3.8.12"
  }
 },
 "nbformat": 4,
 "nbformat_minor": 5
}
