{
 "cells": [
  {
   "cell_type": "code",
   "execution_count": null,
   "id": "9ebf28e5",
   "metadata": {},
   "outputs": [],
   "source": [
    "import os\n",
    "path = os.chdir(\"Selected Folder\") \n",
    "i=0\n",
    "for file in os.listdir(path):\n",
    "    new_file = \"name{}.jpg\".format(i)\n",
    "    os.rename(file,new_file)\n",
    "    i=i+1"
   ]
  }
 ],
 "metadata": {
  "kernelspec": {
   "display_name": "Python 3 (ipykernel)",
   "language": "python",
   "name": "python3"
  },
  "language_info": {
   "codemirror_mode": {
    "name": "ipython",
    "version": 3
   },
   "file_extension": ".py",
   "mimetype": "text/x-python",
   "name": "python",
   "nbconvert_exporter": "python",
   "pygments_lexer": "ipython3",
   "version": "3.8.12"
  }
 },
 "nbformat": 4,
 "nbformat_minor": 5
}
