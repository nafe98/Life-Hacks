{
 "cells": [
  {
   "cell_type": "code",
   "execution_count": null,
   "id": "6ae7fd01",
   "metadata": {},
   "outputs": [],
   "source": [
    "image_dir=\"Dataset/\""
   ]
  },
  {
   "cell_type": "code",
   "execution_count": null,
   "id": "7367dfd8",
   "metadata": {},
   "outputs": [],
   "source": [
    "os.makedirs('Creating New Directory')\n",
    "os.makedirs('Creating New Directory/Class 1')\n",
    "os.makedirs('Creating New Directory/Class 2')"
   ]
  },
  {
   "cell_type": "code",
   "execution_count": null,
   "id": "d67eb035",
   "metadata": {},
   "outputs": [],
   "source": [
    "def augment_data(file_dir, n_generated_samples, save_to_dir):\n",
    "    data_gen = ImageDataGenerator(rotation_range=10, \n",
    "                                  width_shift_range=0.1, \n",
    "                                  height_shift_range=0.1, \n",
    "                                  shear_range=0.1, \n",
    "                                  brightness_range=(0.3, 1.0),\n",
    "                                  horizontal_flip=True, \n",
    "                                  vertical_flip=True, \n",
    "                                  fill_mode='nearest')\n",
    "\n",
    "    \n",
    "    \n",
    "    \n",
    "    for filename in listdir(file_dir):\n",
    "        image = cv2.imread(file_dir + '/' + filename)\n",
    "        # reshape the image\n",
    "        image = image.reshape((1,)+image.shape)\n",
    "        save_prefix = 'aug_' + filename[:-4]\n",
    "        i=0\n",
    "        for batch in data_gen.flow(x=image, batch_size=1, save_to_dir=save_to_dir,save_prefix=save_prefix, save_format='jpg'):\n",
    "                i += 1\n",
    "                if i > n_generated_samples:\n",
    "                    break"
   ]
  },
  {
   "cell_type": "code",
   "execution_count": null,
   "id": "8fd1ff22",
   "metadata": {},
   "outputs": [],
   "source": [
    "augmented_data_path ='Creating New Directory/'\n",
    "\n",
    "\n",
    "# augment data for the examples with label equal to 'yes' representing tumurous examples\n",
    "augment_data(file_dir=image_dir+'Class 1',n_generated_samples=6, save_to_dir=augmented_data_path+'Class 1')\n",
    "\n",
    "\n",
    "\n",
    "\n",
    "# augment data for the examples with label equal to 'no' representing non-tumurous examples\n",
    "augment_data(file_dir=image_dir+'Class 2', n_generated_samples=9, save_to_dir=augmented_data_path+'Class 2')"
   ]
  }
 ],
 "metadata": {
  "kernelspec": {
   "display_name": "Python 3 (ipykernel)",
   "language": "python",
   "name": "python3"
  },
  "language_info": {
   "codemirror_mode": {
    "name": "ipython",
    "version": 3
   },
   "file_extension": ".py",
   "mimetype": "text/x-python",
   "name": "python",
   "nbconvert_exporter": "python",
   "pygments_lexer": "ipython3",
   "version": "3.8.12"
  }
 },
 "nbformat": 4,
 "nbformat_minor": 5
}
