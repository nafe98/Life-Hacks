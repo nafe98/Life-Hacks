{
 "cells": [
  {
   "cell_type": "code",
   "execution_count": 6,
   "id": "2e74fa5c",
   "metadata": {},
   "outputs": [],
   "source": [
    "import os\n",
    "import cv2\n",
    "from os import listdir\n",
    "from keras_preprocessing.image import ImageDataGenerator"
   ]
  },
  {
   "cell_type": "code",
   "execution_count": 7,
   "id": "0f3ce310",
   "metadata": {},
   "outputs": [],
   "source": [
    "image_dir=\"Dataset/\""
   ]
  },
  {
   "cell_type": "code",
   "execution_count": 8,
   "id": "b079d177",
   "metadata": {},
   "outputs": [],
   "source": [
    "os.makedirs('Augmented_Dataset')\n",
    "os.makedirs('Augmented_Dataset/Benign cases')\n",
    "os.makedirs('Augmented_Dataset/Malignant cases')\n",
    "os.makedirs('Augmented_Dataset/Normal cases')\n"
   ]
  },
  {
   "cell_type": "code",
   "execution_count": 9,
   "id": "53585c43",
   "metadata": {},
   "outputs": [],
   "source": [
    "def blur(img):\n",
    "    return (cv2.blur(img,(5,5)))"
   ]
  },
  {
   "cell_type": "code",
   "execution_count": 10,
   "id": "7aa43d21",
   "metadata": {},
   "outputs": [],
   "source": [
    "def augment_data(file_dir, n_generated_samples, save_to_dir):\n",
    "    data_gen = ImageDataGenerator(horizontal_flip=True, \n",
    "                                  vertical_flip=True,\n",
    "                                  preprocessing_function= blur\n",
    "                                  )\n",
    "\n",
    "    \n",
    "    \n",
    "    \n",
    "    for filename in listdir(file_dir):\n",
    "        image = cv2.imread(file_dir + '/' + filename)\n",
    "        # reshape the image\n",
    "        image = image.reshape((1,)+image.shape)\n",
    "        save_prefix = 'aug_' + filename[:-4]\n",
    "        i=0\n",
    "        for batch in data_gen.flow(x=image, batch_size=1, save_to_dir=save_to_dir,save_prefix=save_prefix, save_format='jpg'):\n",
    "                i += 1\n",
    "                if i > n_generated_samples:\n",
    "                    break"
   ]
  },
  {
   "cell_type": "code",
   "execution_count": 11,
   "id": "35ebdcc2",
   "metadata": {},
   "outputs": [],
   "source": [
    "augmented_data_path ='Augmented_Dataset/'\n",
    "\n",
    "augment_data(file_dir=image_dir+'Benign cases',n_generated_samples=3, save_to_dir=augmented_data_path+'Benign cases')\n",
    "augment_data(file_dir=image_dir+'Malignant cases', n_generated_samples=3, save_to_dir=augmented_data_path+'Malignant cases')\n",
    "augment_data(file_dir=image_dir+'Normal cases', n_generated_samples=3, save_to_dir=augmented_data_path+'Normal cases')"
   ]
  },
  {
   "cell_type": "code",
   "execution_count": null,
   "id": "6083fb87",
   "metadata": {},
   "outputs": [],
   "source": []
  }
 ],
 "metadata": {
  "kernelspec": {
   "display_name": "Python 3 (ipykernel)",
   "language": "python",
   "name": "python3"
  },
  "language_info": {
   "codemirror_mode": {
    "name": "ipython",
    "version": 3
   },
   "file_extension": ".py",
   "mimetype": "text/x-python",
   "name": "python",
   "nbconvert_exporter": "python",
   "pygments_lexer": "ipython3",
   "version": "3.9.12"
  }
 },
 "nbformat": 4,
 "nbformat_minor": 5
}
