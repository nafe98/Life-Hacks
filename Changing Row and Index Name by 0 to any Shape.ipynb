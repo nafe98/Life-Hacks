{
 "cells": [
  {
   "cell_type": "code",
   "execution_count": null,
   "id": "4ea919a3",
   "metadata": {},
   "outputs": [],
   "source": [
    "import numpy as np\n",
    "import pandas as pd"
   ]
  },
  {
   "cell_type": "code",
   "execution_count": null,
   "id": "f8063bda",
   "metadata": {},
   "outputs": [],
   "source": [
    "numRows = raw_data.shape[0]\n",
    "numCols = raw_data.shape[1]"
   ]
  },
  {
   "cell_type": "code",
   "execution_count": null,
   "id": "7a574839",
   "metadata": {},
   "outputs": [],
   "source": [
    "columns = [\"DP\"+str(x) for x in range(1,numCols+1)]\n",
    "index = [\"OP\"+str(x) for x in range(1,numRows+1)]\n",
    "\n",
    "raw_data.columns = (columns)\n",
    "raw_data.index = index"
   ]
  },
  {
   "cell_type": "code",
   "execution_count": null,
   "id": "3b2405eb",
   "metadata": {},
   "outputs": [],
   "source": []
  },
  {
   "cell_type": "code",
   "execution_count": null,
   "id": "30676af3",
   "metadata": {},
   "outputs": [],
   "source": []
  },
  {
   "cell_type": "code",
   "execution_count": null,
   "id": "138b1387",
   "metadata": {},
   "outputs": [],
   "source": []
  }
 ],
 "metadata": {
  "kernelspec": {
   "display_name": "Python 3 (ipykernel)",
   "language": "python",
   "name": "python3"
  },
  "language_info": {
   "codemirror_mode": {
    "name": "ipython",
    "version": 3
   },
   "file_extension": ".py",
   "mimetype": "text/x-python",
   "name": "python",
   "nbconvert_exporter": "python",
   "pygments_lexer": "ipython3",
   "version": "3.9.15"
  }
 },
 "nbformat": 4,
 "nbformat_minor": 5
}
